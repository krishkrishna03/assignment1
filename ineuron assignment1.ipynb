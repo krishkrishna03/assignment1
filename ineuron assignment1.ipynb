{
 "cells": [
  {
   "cell_type": "markdown",
   "id": "919bea41",
   "metadata": {},
   "source": [
    "1. What makes NumPy.shape() different from NumPy.size()?\n",
    "2. In NumPy, describe the idea of broadcasting.\n",
    "3. What makes Python better than other libraries for numerical computation?\n",
    "4. How does NumPy deal with files?\n",
    "5. Mention the importance of NumPy.empty()."
   ]
  },
  {
   "cell_type": "markdown",
   "id": "e9996fb0",
   "metadata": {},
   "source": [
    "### 1. What makes NumPy.shape() different from NumPy.size()?\n"
   ]
  },
  {
   "cell_type": "code",
   "execution_count": 1,
   "id": "32f58b26",
   "metadata": {},
   "outputs": [],
   "source": [
    "# In arrays NUmpy.shape is called as attribute.\n",
    "# It indicates the shape of an array.  \n",
    "# Numpy.size is describes the size of an array."
   ]
  },
  {
   "cell_type": "code",
   "execution_count": 1,
   "id": "0da20d42",
   "metadata": {},
   "outputs": [
    {
     "name": "stdout",
     "output_type": "stream",
     "text": [
      "(2, 3)\n"
     ]
    }
   ],
   "source": [
    "#for example:\n",
    "import numpy as np\n",
    "arr = np.array([[1,2,3],[4,5,6]])\n",
    "print(arr.shape)"
   ]
  },
  {
   "cell_type": "code",
   "execution_count": 2,
   "id": "38a0e1a8",
   "metadata": {},
   "outputs": [
    {
     "name": "stdout",
     "output_type": "stream",
     "text": [
      "6\n"
     ]
    }
   ],
   "source": [
    "import numpy as np\n",
    "arr = np.array([[1,2,3],[4,5,6]])\n",
    "print(arr.size)"
   ]
  },
  {
   "cell_type": "code",
   "execution_count": 5,
   "id": "cd3ad59e",
   "metadata": {},
   "outputs": [],
   "source": [
    "#finally the difference is shape describes the number of rows and columns in an dimensional array.\n",
    "#But size attribute describes size of the entire array."
   ]
  },
  {
   "cell_type": "markdown",
   "id": "0a8fbaaf",
   "metadata": {},
   "source": [
    "### 2. In NumPy, describe the idea of broadcasting."
   ]
  },
  {
   "cell_type": "code",
   "execution_count": 6,
   "id": "c74f55b3",
   "metadata": {},
   "outputs": [],
   "source": [
    "# I know something that is :\n",
    "# Broadcasting describes how numpy treats arrays with different shapes during arithmetic operations.\n",
    "# the smaller array is \"broadcast\" across the lager array so they have compatible shapes"
   ]
  },
  {
   "cell_type": "code",
   "execution_count": 7,
   "id": "cd0efbbe",
   "metadata": {},
   "outputs": [
    {
     "name": "stdout",
     "output_type": "stream",
     "text": [
      "[1 2 3]\n",
      "2\n",
      "[3 4 5]\n"
     ]
    }
   ],
   "source": [
    "# for example:\n",
    "import numpy as np\n",
    "a = np.array([1,2,3])\n",
    "b = 2\n",
    "c = a + b\n",
    "print(a)\n",
    "print(b)\n",
    "print(c)"
   ]
  },
  {
   "cell_type": "code",
   "execution_count": 10,
   "id": "a80a7520",
   "metadata": {},
   "outputs": [],
   "source": [
    "# above code is like:\n",
    "#import numpy as np\n",
    "#a = np.array([a1,a2,a3])\n",
    "#b = 2\n",
    "#c = a + b\n",
    "#here in 'c' variable is [a1+2,a2+2,a3+2] like that \n"
   ]
  },
  {
   "cell_type": "markdown",
   "id": "8112dff2",
   "metadata": {},
   "source": [
    "### 3. What makes Python better than other libraries for numerical computation?"
   ]
  },
  {
   "cell_type": "code",
   "execution_count": 11,
   "id": "31167f7c",
   "metadata": {},
   "outputs": [],
   "source": [
    "#using of numpy , scipy , and pandas etc...these are some numerical computations."
   ]
  },
  {
   "cell_type": "markdown",
   "id": "62dabf9b",
   "metadata": {},
   "source": [
    "### 4. How does NumPy deal with files?"
   ]
  },
  {
   "cell_type": "code",
   "execution_count": 12,
   "id": "aea5f6af",
   "metadata": {},
   "outputs": [],
   "source": [
    "#suppose you can save your numpy to csv files using the savetxt()function.\n",
    "#the function takes a filename and array as aruguments and saves the array into csv format.thatwise numpy deals with fiels"
   ]
  },
  {
   "cell_type": "markdown",
   "id": "b6512fea",
   "metadata": {},
   "source": [
    "### 5. Mention the importance of NumPy.empty()."
   ]
  },
  {
   "cell_type": "code",
   "execution_count": 13,
   "id": "115b2d7d",
   "metadata": {},
   "outputs": [],
   "source": [
    "# it returns a new array of given shape and type ,without initializing entries."
   ]
  },
  {
   "cell_type": "code",
   "execution_count": 17,
   "id": "f88a1a4c",
   "metadata": {},
   "outputs": [
    {
     "name": "stdout",
     "output_type": "stream",
     "text": [
      "[[ 1416207793 -1442142908]\n",
      " [ 1902277881  1458157838]]\n"
     ]
    }
   ],
   "source": [
    "import numpy as np\n",
    "a = np.empty([2,2],dtype = int)\n",
    "print(a)"
   ]
  },
  {
   "cell_type": "code",
   "execution_count": 4,
   "id": "9f34efcb",
   "metadata": {},
   "outputs": [
    {
     "name": "stdout",
     "output_type": "stream",
     "text": [
      "[[-1078174776         491          38           0]\n",
      " [          0           0           0           0]\n",
      " [          0     7602273  1634607739   975332717]\n",
      " [ 1685353250   578057583  1702109740   975336568]\n",
      " [  540039970   540024880  1851546928       32034]]\n"
     ]
    }
   ],
   "source": [
    "import numpy as np\n",
    "a = np.empty([5,4],dtype = int)\n",
    "print(a)"
   ]
  },
  {
   "cell_type": "code",
   "execution_count": null,
   "id": "e2202626",
   "metadata": {},
   "outputs": [],
   "source": []
  }
 ],
 "metadata": {
  "kernelspec": {
   "display_name": "Python 3 (ipykernel)",
   "language": "python",
   "name": "python3"
  },
  "language_info": {
   "codemirror_mode": {
    "name": "ipython",
    "version": 3
   },
   "file_extension": ".py",
   "mimetype": "text/x-python",
   "name": "python",
   "nbconvert_exporter": "python",
   "pygments_lexer": "ipython3",
   "version": "3.9.7"
  }
 },
 "nbformat": 4,
 "nbformat_minor": 5
}
